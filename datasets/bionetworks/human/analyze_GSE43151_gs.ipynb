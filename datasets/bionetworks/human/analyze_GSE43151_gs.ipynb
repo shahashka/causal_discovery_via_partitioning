{
 "cells": [
  {
   "cell_type": "code",
   "execution_count": 1,
   "metadata": {},
   "outputs": [],
   "source": [
    "import numpy as np\n",
    "import pandas as pd\n",
    "import matplotlib.pyplot as plt"
   ]
  },
  {
   "cell_type": "code",
   "execution_count": 2,
   "metadata": {},
   "outputs": [
    {
     "name": "stdout",
     "output_type": "stream",
     "text": [
      "10874\n",
      "       NCBI GeneID     Symbol  \\\n",
      "0             7157       TP53   \n",
      "1             1956       EGFR   \n",
      "2             7124        TNF   \n",
      "3              348       APOE   \n",
      "4             7422      VEGFA   \n",
      "...            ...        ...   \n",
      "45507         9596     OR1R1P   \n",
      "45508         9597  SMAD5-AS1   \n",
      "45509        96626      LIMS3   \n",
      "45510         9808   KIAA0087   \n",
      "45511         9831     ZNF623   \n",
      "\n",
      "                                             Description Taxonomic Name  \\\n",
      "0                                      tumor protein p53   Homo sapiens   \n",
      "1                       epidermal growth factor receptor   Homo sapiens   \n",
      "2                                  tumor necrosis factor   Homo sapiens   \n",
      "3                                       apolipoprotein E   Homo sapiens   \n",
      "4                   vascular endothelial growth factor A   Homo sapiens   \n",
      "...                                                  ...            ...   \n",
      "45507  olfactory receptor family 1 subfamily R member...   Homo sapiens   \n",
      "45508                              SMAD5 antisense RNA 1   Homo sapiens   \n",
      "45509                LIM zinc finger domain containing 3   Homo sapiens   \n",
      "45510                                    KIAA0087 lncRNA   Homo sapiens   \n",
      "45511                            zinc finger protein 623   Homo sapiens   \n",
      "\n",
      "      Common Name       Gene Type  Transcripts  Gene Group Identifier  \\\n",
      "0           human  PROTEIN_CODING         26.0                 7157.0   \n",
      "1           human  PROTEIN_CODING         13.0                 1956.0   \n",
      "2           human  PROTEIN_CODING          1.0                 7124.0   \n",
      "3           human  PROTEIN_CODING          5.0                  348.0   \n",
      "4           human  PROTEIN_CODING         20.0                 7422.0   \n",
      "...           ...             ...          ...                    ...   \n",
      "45507       human  PROTEIN_CODING          1.0                 9596.0   \n",
      "45508       human           ncRNA          1.0                    NaN   \n",
      "45509       human  PROTEIN_CODING          4.0                    NaN   \n",
      "45510       human           ncRNA          1.0                    NaN   \n",
      "45511       human  PROTEIN_CODING         19.0                 9831.0   \n",
      "\n",
      "      Gene Group Method  \n",
      "0         NCBI Ortholog  \n",
      "1         NCBI Ortholog  \n",
      "2         NCBI Ortholog  \n",
      "3         NCBI Ortholog  \n",
      "4         NCBI Ortholog  \n",
      "...                 ...  \n",
      "45507     NCBI Ortholog  \n",
      "45508               NaN  \n",
      "45509               NaN  \n",
      "45510               NaN  \n",
      "45511     NCBI Ortholog  \n",
      "\n",
      "[45512 rows x 9 columns]\n"
     ]
    }
   ],
   "source": [
    "radbio_data = pd.read_csv(\"GSE43151_gs.csv\")\n",
    "num_genes = radbio_data.shape[1] - 1 \n",
    "gene_ids = [int(i) for i in radbio_data.columns[0:num_genes]]\n",
    "print(len(gene_ids))\n",
    "gene_dictionary = pd.read_csv(\"ncbi_dataset.tsv\", sep='\\t', header=0)\n",
    "print(gene_dictionary)"
   ]
  },
  {
   "cell_type": "code",
   "execution_count": 3,
   "metadata": {},
   "outputs": [
    {
     "data": {
      "image/png": "[encoded data removed]",
      "text/plain": [
       "<Figure size 640x480 with 1 Axes>"
      ]
     },
     "metadata": {},
     "output_type": "display_data"
    }
   ],
   "source": [
    "control = radbio_data[radbio_data['Dose'] == '0.Gy']\n",
    "control_data = control.drop(columns=[\"Dose\"])\n",
    "for gene in np.arange(10):\n",
    "    plt.hist(control_data.iloc[:,gene])"
   ]
  },
  {
   "cell_type": "code",
   "execution_count": 4,
   "metadata": {},
   "outputs": [
    {
     "name": "stdout",
     "output_type": "stream",
     "text": [
      "       NCBI GeneID    Symbol                                Description  \\\n",
      "0             7157      TP53                          tumor protein p53   \n",
      "2             7124       TNF                      tumor necrosis factor   \n",
      "3              348      APOE                           apolipoprotein E   \n",
      "7             4524     MTHFR        methylenetetrahydrofolate reductase   \n",
      "9             3091     HIF1A   hypoxia inducible factor 1 subunit alpha   \n",
      "...            ...       ...                                        ...   \n",
      "45487        93134    ZNF561                    zinc finger protein 561   \n",
      "45488        93190   CFAP107  cilia and flagella associated protein 107   \n",
      "45492        93622  MRFAP1L2   Morf4 family associated protein 1 like 2   \n",
      "45500        94059     LENG9        leukocyte receptor cluster member 9   \n",
      "45511         9831    ZNF623                    zinc finger protein 623   \n",
      "\n",
      "      Taxonomic Name Common Name       Gene Type  Transcripts  \\\n",
      "0       Homo sapiens       human  PROTEIN_CODING         26.0   \n",
      "2       Homo sapiens       human  PROTEIN_CODING          1.0   \n",
      "3       Homo sapiens       human  PROTEIN_CODING          5.0   \n",
      "7       Homo sapiens       human  PROTEIN_CODING         20.0   \n",
      "9       Homo sapiens       human  PROTEIN_CODING          3.0   \n",
      "...              ...         ...             ...          ...   \n",
      "45487   Homo sapiens       human  PROTEIN_CODING         21.0   \n",
      "45488   Homo sapiens       human  PROTEIN_CODING          2.0   \n",
      "45492   Homo sapiens       human  PROTEIN_CODING          5.0   \n",
      "45500   Homo sapiens       human  PROTEIN_CODING          3.0   \n",
      "45511   Homo sapiens       human  PROTEIN_CODING         19.0   \n",
      "\n",
      "       Gene Group Identifier Gene Group Method  \n",
      "0                     7157.0     NCBI Ortholog  \n",
      "2                     7124.0     NCBI Ortholog  \n",
      "3                      348.0     NCBI Ortholog  \n",
      "7                     4524.0     NCBI Ortholog  \n",
      "9                     3091.0     NCBI Ortholog  \n",
      "...                      ...               ...  \n",
      "45487                93134.0     NCBI Ortholog  \n",
      "45488                93190.0     NCBI Ortholog  \n",
      "45492                93622.0     NCBI Ortholog  \n",
      "45500                94059.0     NCBI Ortholog  \n",
      "45511                 9831.0     NCBI Ortholog  \n",
      "\n",
      "[9896 rows x 9 columns]\n"
     ]
    }
   ],
   "source": [
    "# Which genes are in the dataset and are also protein coding \n",
    "gene_data = gene_dictionary.loc[gene_dictionary['NCBI GeneID'].isin(gene_ids)]\n",
    "protein_gene_data = gene_data.loc[gene_data['Gene Type']=='PROTEIN_CODING']\n",
    "print(protein_gene_data)\n"
   ]
  },
  {
   "cell_type": "code",
   "execution_count": 5,
   "metadata": {},
   "outputs": [],
   "source": [
    "final_gene_set = [str(i) for i in protein_gene_data['NCBI GeneID']]\n",
    "final_data_set = radbio_data[final_gene_set]\n",
    "final_column_set = final_gene_set + [\"Dose\"]\n",
    "final_data_set_w_condition = radbio_data[final_column_set]\n"
   ]
  },
  {
   "cell_type": "code",
   "execution_count": 6,
   "metadata": {},
   "outputs": [
    {
     "name": "stdout",
     "output_type": "stream",
     "text": [
      "0.9850945543290598\n"
     ]
    },
    {
     "ename": "KeyboardInterrupt",
     "evalue": "",
     "output_type": "error",
     "traceback": [
      "\u001b[0;31m---------------------------------------------------------------------------\u001b[0m",
      "\u001b[0;31mKeyboardInterrupt\u001b[0m                         Traceback (most recent call last)",
      "\u001b[1;32m/homes/shahashka/causal_discovery_via_partitioning/datasets/bionetworks/human/analyze_GSE43151_gs.ipynb Cell 6\u001b[0m in \u001b[0;36m<cell line: 6>\u001b[0;34m()\u001b[0m\n\u001b[1;32m      <a href='vscode-notebook-cell://ssh-remote%2Blambda2.cels.anl.gov/homes/shahashka/causal_discovery_via_partitioning/datasets/bionetworks/human/analyze_GSE43151_gs.ipynb#W5sdnNjb2RlLXJlbW90ZQ%3D%3D?line=8'>9</a>\u001b[0m     shuffled_array[row] \u001b[39m=\u001b[39m np\u001b[39m.\u001b[39mrandom\u001b[39m.\u001b[39mpermutation(final_data_set\u001b[39m.\u001b[39miloc[row])\n\u001b[1;32m     <a href='vscode-notebook-cell://ssh-remote%2Blambda2.cels.anl.gov/homes/shahashka/causal_discovery_via_partitioning/datasets/bionetworks/human/analyze_GSE43151_gs.ipynb#W5sdnNjb2RlLXJlbW90ZQ%3D%3D?line=9'>10</a>\u001b[0m shuffled_final_data_set \u001b[39m=\u001b[39m pd\u001b[39m.\u001b[39mDataFrame(data\u001b[39m=\u001b[39mshuffled_array)\n\u001b[0;32m---> <a href='vscode-notebook-cell://ssh-remote%2Blambda2.cels.anl.gov/homes/shahashka/causal_discovery_via_partitioning/datasets/bionetworks/human/analyze_GSE43151_gs.ipynb#W5sdnNjb2RlLXJlbW90ZQ%3D%3D?line=10'>11</a>\u001b[0m shuffle_corr_mat \u001b[39m=\u001b[39m shuffled_final_data_set\u001b[39m.\u001b[39;49mcorr(\u001b[39m'\u001b[39;49m\u001b[39mpearson\u001b[39;49m\u001b[39m'\u001b[39;49m)\n\u001b[1;32m     <a href='vscode-notebook-cell://ssh-remote%2Blambda2.cels.anl.gov/homes/shahashka/causal_discovery_via_partitioning/datasets/bionetworks/human/analyze_GSE43151_gs.ipynb#W5sdnNjb2RlLXJlbW90ZQ%3D%3D?line=12'>13</a>\u001b[0m shuffle_corr_mat \u001b[39m=\u001b[39m shuffle_corr_mat\u001b[39m.\u001b[39mto_numpy()\n\u001b[1;32m     <a href='vscode-notebook-cell://ssh-remote%2Blambda2.cels.anl.gov/homes/shahashka/causal_discovery_via_partitioning/datasets/bionetworks/human/analyze_GSE43151_gs.ipynb#W5sdnNjb2RlLXJlbW90ZQ%3D%3D?line=13'>14</a>\u001b[0m np\u001b[39m.\u001b[39mfill_diagonal(shuffle_corr_mat, \u001b[39m0\u001b[39m)\n",
      "File \u001b[0;32m~/.conda/envs/cd_partitioning/lib/python3.10/site-packages/pandas/core/frame.py:10310\u001b[0m, in \u001b[0;36mDataFrame.corr\u001b[0;34m(self, method, min_periods, numeric_only)\u001b[0m\n\u001b[1;32m  10307\u001b[0m mat \u001b[39m=\u001b[39m data\u001b[39m.\u001b[39mto_numpy(dtype\u001b[39m=\u001b[39m\u001b[39mfloat\u001b[39m, na_value\u001b[39m=\u001b[39mnp\u001b[39m.\u001b[39mnan, copy\u001b[39m=\u001b[39m\u001b[39mFalse\u001b[39;00m)\n\u001b[1;32m  10309\u001b[0m \u001b[39mif\u001b[39;00m method \u001b[39m==\u001b[39m \u001b[39m\"\u001b[39m\u001b[39mpearson\u001b[39m\u001b[39m\"\u001b[39m:\n\u001b[0;32m> 10310\u001b[0m     correl \u001b[39m=\u001b[39m libalgos\u001b[39m.\u001b[39;49mnancorr(mat, minp\u001b[39m=\u001b[39;49mmin_periods)\n\u001b[1;32m  10311\u001b[0m \u001b[39melif\u001b[39;00m method \u001b[39m==\u001b[39m \u001b[39m\"\u001b[39m\u001b[39mspearman\u001b[39m\u001b[39m\"\u001b[39m:\n\u001b[1;32m  10312\u001b[0m     correl \u001b[39m=\u001b[39m libalgos\u001b[39m.\u001b[39mnancorr_spearman(mat, minp\u001b[39m=\u001b[39mmin_periods)\n",
      "\u001b[0;31mKeyboardInterrupt\u001b[0m: "
     ]
    }
   ],
   "source": [
    "# Permutation testing\n",
    "corr_mat = final_data_set.corr('pearson').to_numpy()\n",
    "np.fill_diagonal(corr_mat, 0)\n",
    "print(np.max(corr_mat))\n",
    "random_corr_coef = []\n",
    "for i in range(100):\n",
    "    shuffled_array = np.zeros(final_data_set.shape)\n",
    "    for row in np.arange(final_data_set.shape[0]):\n",
    "        shuffled_array[row] = np.random.permutation(final_data_set.iloc[row])\n",
    "    shuffled_final_data_set = pd.DataFrame(data=shuffled_array)\n",
    "    shuffle_corr_mat = shuffled_final_data_set.corr('pearson')\n",
    "\n",
    "    shuffle_corr_mat = shuffle_corr_mat.to_numpy()\n",
    "    np.fill_diagonal(shuffle_corr_mat, 0)\n",
    "    random_corr_coef.append(np.max(shuffle_corr_mat))"
   ]
  },
  {
   "cell_type": "code",
   "execution_count": 7,
   "metadata": {},
   "outputs": [],
   "source": [
    "#np.savetxt('random_corr_coef.txt', np.array(random_corr_coef))\n",
    "random_corr_coef = np.loadtxt('random_corr_coef.txt')"
   ]
  },
  {
   "cell_type": "code",
   "execution_count": 8,
   "metadata": {},
   "outputs": [],
   "source": [
    "import scipy.stats as st\n",
    "ci_interval = st.t.interval(0.95, len(random_corr_coef)-1, loc=np.mean(random_corr_coef), scale=st.sem(random_corr_coef))\n",
    "cutoff = ci_interval[1]"
   ]
  },
  {
   "cell_type": "code",
   "execution_count": 9,
   "metadata": {},
   "outputs": [
    {
     "name": "stdout",
     "output_type": "stream",
     "text": [
      "Superstructure contains 2789340.0 edges which is 0.02848276072773661 fraction of all possible edges\n"
     ]
    }
   ],
   "source": [
    "corr_mat[corr_mat<=cutoff] = 0\n",
    "corr_mat[corr_mat>cutoff] = 1\n",
    "print(f\"Superstructure contains {np.sum(corr_mat)} edges which is {np.sum(corr_mat)/(corr_mat.shape[0]**2)} fraction of all possible edges\")"
   ]
  },
  {
   "cell_type": "code",
   "execution_count": 10,
   "metadata": {},
   "outputs": [
    {
     "name": "stdout",
     "output_type": "stream",
     "text": [
      "start\n",
      "running giesl skel shape is (9896, 9896), num edges is 2789340.0\n"
     ]
    }
   ],
   "source": [
    "from cd_v_partition.causal_discovery import ges_local_learn\n",
    "final_data_set_w_condition = final_data_set_w_condition.rename(mapper={\"Dose\":\"target\"}, axis=1)\n",
    "obs_final_data_set_w_condition = final_data_set_w_condition\n",
    "obs_final_data_set_w_condition['target'] = np.zeros(radbio_data.shape[0])\n",
    "est_dag = ges_local_learn((corr_mat, obs_final_data_set_w_condition), use_skel=True)"
   ]
  },
  {
   "cell_type": "code",
   "execution_count": null,
   "metadata": {},
   "outputs": [
    {
     "data": {
      "text/plain": [
       "(9896, 9896)"
      ]
     },
     "execution_count": 24,
     "metadata": {},
     "output_type": "execute_result"
    }
   ],
   "source": [
    "print(np.sum(est_dag))"
   ]
  },
  {
   "cell_type": "code",
   "execution_count": null,
   "metadata": {},
   "outputs": [],
   "source": []
  }
 ],
 "metadata": {
  "kernelspec": {
   "display_name": "cd_partitioning",
   "language": "python",
   "name": "python3"
  },
  "language_info": {
   "codemirror_mode": {
    "name": "ipython",
    "version": 3
   },
   "file_extension": ".py",
   "mimetype": "text/x-python",
   "name": "python",
   "nbconvert_exporter": "python",
   "pygments_lexer": "ipython3",
   "version": "3.10.14"
  },
  "orig_nbformat": 4
 },
 "nbformat": 4,
 "nbformat_minor": 2
}
