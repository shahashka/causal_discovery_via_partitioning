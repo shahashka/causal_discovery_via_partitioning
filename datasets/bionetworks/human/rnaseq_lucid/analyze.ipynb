{
 "cells": [
  {
   "cell_type": "code",
   "execution_count": 1,
   "metadata": {},
   "outputs": [],
   "source": [
    "import pandas as pd\n",
    "import numpy as np"
   ]
  },
  {
   "cell_type": "code",
   "execution_count": 17,
   "metadata": {},
   "outputs": [
    {
     "name": "stdout",
     "output_type": "stream",
     "text": [
      "Index(['Gene', 'HUVEC_RNAd0_W1_R1', 'HUVEC_RNAd0_W0_R1', 'HUVEC_RNAd0_W2_R1',\n",
      "       'HUVEC_RNAd0_W3_R1', 'HUVEC_RNAd0_W1_R2', 'HUVEC_RNAd0_W2_R2',\n",
      "       'HUVEC_RNAd0_W3_R2', 'HUVEC_RNAdD_W2_R2', 'HUVEC_RNAdD_W2_R1',\n",
      "       'HUVEC_RNAdE_W1_R2', 'HUVEC_RNAdE_W1_R1', 'HUVEC_RNAdD_W3_R2',\n",
      "       'HUVEC_RNAdD_W3_R1', 'HUVEC_RNAdE_W2_R2', 'HUVEC_RNAdE_W2_R1',\n",
      "       'HUVEC_RNAdD_W1_R2', 'HUVEC_RNAdD_W1_R1', 'HUVEC_RNAdE_W3_R2',\n",
      "       'HUVEC_RNAdE_W3_R1', 'HUVEC_RNAdB_W2_R1', 'HUVEC_RNAdB_W2_R2',\n",
      "       'HUVEC_RNAdA_W1_R2', 'HUVEC_RNAdA_W1_R1', 'HUVEC_RNAdC_W1_R1',\n",
      "       'HUVEC_RNAdC_W1_R2', 'HUVEC_RNAdB_W3_R1', 'HUVEC_RNAdB_W3_R2',\n",
      "       'HUVEC_RNAdC_W2_R1', 'HUVEC_RNAdC_W2_R2', 'HUVEC_RNAdA_W2_R2',\n",
      "       'HUVEC_RNAdA_W2_R1', 'HUVEC_RNAdB_W1_R1', 'HUVEC_RNAdB_W1_R2',\n",
      "       'HUVEC_RNAdC_W3_R1', 'HUVEC_RNAdC_W3_R2', 'HUVEC_RNAdA_W3_R2',\n",
      "       'HUVEC_RNAdA_W3_R1'],\n",
      "      dtype='object')\n"
     ]
    }
   ],
   "source": [
    "counts = pd.read_csv(\"all_samples_gene_counts.txt\", sep=\"\\t\", header=0)\n",
    "print(counts.columns)"
   ]
  },
  {
   "cell_type": "code",
   "execution_count": 22,
   "metadata": {},
   "outputs": [
    {
     "name": "stdout",
     "output_type": "stream",
     "text": [
      "   SampleName ExposureRate_mGh  Week  Replicate  TotalExposure_mG\n",
      "0    dA_W1_R1            0.001     1          1             0.168\n",
      "1    dA_W1_R2            0.001     1          2             0.168\n",
      "2    dA_W2_R1            0.001     2          1             0.336\n",
      "3    dA_W2_R2            0.001     2          2             0.336\n",
      "4    dA_W3_R1            0.001     3          1             0.504\n",
      "5    dA_W3_R2            0.001     3          2             0.504\n",
      "6    dB_W1_R1             0.01     1          1             1.680\n",
      "7    dB_W1_R2             0.01     1          2             1.680\n",
      "8    dB_W2_R1             0.01     2          1             3.360\n",
      "9    dB_W2_R2             0.01     2          2             3.360\n",
      "10   dB_W3_R1             0.01     3          1             5.040\n",
      "11   dB_W3_R2             0.01     3          2             5.040\n",
      "12   dC_W1_R1              0.1     1          1            16.800\n",
      "13   dC_W1_R2              0.1     1          2            16.800\n",
      "14   dC_W2_R1              0.1     2          1            33.600\n",
      "15   dC_W2_R2              0.1     2          2            33.600\n",
      "16   dC_W3_R1              0.1     3          1            50.400\n",
      "17   dC_W3_R2              0.1     3          2            50.400\n",
      "18   dD_W1_R1              1.0     1          1           168.000\n",
      "19   dD_W1_R2              1.0     1          2           168.000\n",
      "20   dD_W2_R1              1.0     2          1           336.000\n",
      "21   dD_W2_R2              1.0     2          2           336.000\n",
      "22   dD_W3_R1              1.0     3          1           504.000\n",
      "23   dD_W3_R2              1.0     3          2           504.000\n",
      "24   dE_W1_R1              2.0     1          1           336.000\n",
      "25   dE_W1_R2              2.0     1          2           336.000\n",
      "26   dE_W2_R1              2.0     2          1           672.000\n",
      "27   dE_W2_R2              2.0     2          2           672.000\n",
      "28   dE_W3_R1              2.0     3          1          1008.000\n",
      "29   dE_W3_R2              2.0     3          2          1008.000\n",
      "30   d0_W0_R1          Control     0          1             0.000\n",
      "31   d0_W1_R1          Control     1          1             0.000\n",
      "32   d0_W1_R2          Control     1          2             0.000\n",
      "33   d0_W2_R1          Control     2          1             0.000\n",
      "34   d0_W2_R2          Control     2          2             0.000\n",
      "35   d0_W3_R1          Control     3          1             0.000\n",
      "36   d0_W3_R2          Control     3          2             0.000\n"
     ]
    }
   ],
   "source": [
    "metadata = pd.read_csv(\"metadata_rna.csv\", header=0)\n",
    "print(metadata)"
   ]
  },
  {
   "cell_type": "code",
   "execution_count": 41,
   "metadata": {},
   "outputs": [
    {
     "name": "stdout",
     "output_type": "stream",
     "text": [
      "(37, 29628)\n"
     ]
    }
   ],
   "source": [
    "count_data_only = counts.drop(columns='Gene').T\n",
    "drop_inds = count_data_only != 0\n",
    "count_data_only = count_data_only.loc[:,(drop_inds).any(axis=0)]\n",
    "print(count_data_only.shape)\n"
   ]
  },
  {
   "attachments": {},
   "cell_type": "markdown",
   "metadata": {},
   "source": []
  },
  {
   "cell_type": "code",
   "execution_count": 42,
   "metadata": {},
   "outputs": [
    {
     "name": "stdout",
     "output_type": "stream",
     "text": [
      "{'336.0Gy', '168.0Gy', '16.8Gy', '5.04Gy', '50.4Gy', '0.168Gy', '504.0Gy', '1.68Gy', '33.6Gy', '0.504Gy', '0.0Gy', '0.336Gy', '3.36Gy', '672.0Gy', '1008.0Gy'}\n"
     ]
    }
   ],
   "source": [
    "genes = counts['Gene'].loc[(drop_inds).any(axis=0)]\n",
    "dose = [f\"{metadata.loc[metadata['SampleName']==name[9:]]['TotalExposure_mG'].values[0]}Gy\" for name in counts.columns[1:]]\n",
    "print(set(dose))\n",
    "count_data_only.columns=genes\n",
    "count_data_only['Dose'] = dose"
   ]
  },
  {
   "cell_type": "code",
   "execution_count": 48,
   "metadata": {},
   "outputs": [],
   "source": [
    "count_data_only.to_csv(\"data.csv\", header=True, index=False)"
   ]
  },
  {
   "cell_type": "code",
   "execution_count": null,
   "metadata": {},
   "outputs": [],
   "source": []
  }
 ],
 "metadata": {
  "kernelspec": {
   "display_name": "cd_partitioning",
   "language": "python",
   "name": "python3"
  },
  "language_info": {
   "codemirror_mode": {
    "name": "ipython",
    "version": 3
   },
   "file_extension": ".py",
   "mimetype": "text/x-python",
   "name": "python",
   "nbconvert_exporter": "python",
   "pygments_lexer": "ipython3",
   "version": "3.10.14"
  },
  "orig_nbformat": 4
 },
 "nbformat": 4,
 "nbformat_minor": 2
}
